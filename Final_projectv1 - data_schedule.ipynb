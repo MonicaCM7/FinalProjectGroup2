{
 "cells": [
  {
   "cell_type": "code",
   "execution_count": 1,
   "id": "35bcbbf1",
   "metadata": {},
   "outputs": [
    {
     "ename": "OperationalError",
     "evalue": "near \".3\": syntax error",
     "output_type": "error",
     "traceback": [
      "\u001b[1;31m---------------------------------------------------------------------------\u001b[0m",
      "\u001b[1;31mOperationalError\u001b[0m                          Traceback (most recent call last)",
      "Input \u001b[1;32mIn [1]\u001b[0m, in \u001b[0;36m<cell line: 15>\u001b[1;34m()\u001b[0m\n\u001b[0;32m     13\u001b[0m engine\u001b[38;5;241m=\u001b[39msqlalchemy\u001b[38;5;241m.\u001b[39mcreate_engine(\u001b[38;5;124m'\u001b[39m\u001b[38;5;124msqlite:///model_stock.db\u001b[39m\u001b[38;5;124m'\u001b[39m)\n\u001b[0;32m     14\u001b[0m cur\u001b[38;5;241m=\u001b[39mcon\u001b[38;5;241m.\u001b[39mcursor()\n\u001b[1;32m---> 15\u001b[0m \u001b[43mcur\u001b[49m\u001b[38;5;241;43m.\u001b[39;49m\u001b[43mexecute\u001b[49m\u001b[43m(\u001b[49m\u001b[38;5;124;43m'\u001b[39;49m\u001b[38;5;124;43mCREATE TABLE NepalStock1.3 (Num,Symbol,LTP,Change,High,Low,Open,Qty,Turnover)\u001b[39;49m\u001b[38;5;124;43m'\u001b[39;49m\u001b[43m)\u001b[49m\n\u001b[0;32m     18\u001b[0m \u001b[38;5;28;01mdef\u001b[39;00m \u001b[38;5;21mextracting_data\u001b[39m():\n\u001b[0;32m     20\u001b[0m         url\u001b[38;5;241m=\u001b[39m\u001b[38;5;124m\"\u001b[39m\u001b[38;5;124mhttps://merolagani.com/StockQuote.aspx\u001b[39m\u001b[38;5;124m\"\u001b[39m\n",
      "\u001b[1;31mOperationalError\u001b[0m: near \".3\": syntax error"
     ]
    }
   ],
   "source": [
    "from bs4 import BeautifulSoup\n",
    "import requests\n",
    "import pandas as pd\n",
    "import time\n",
    "import datetime \n",
    "import schedule \n",
    "import smtplib\n",
    "import sqlite3\n",
    "import sqlalchemy\n",
    "import re\n",
    "\n",
    "con=sqlite3.connect('model_stock.db')\n",
    "engine=sqlalchemy.create_engine('sqlite:///model_stock.db')\n",
    "cur=con.cursor()\n",
    "cur.execute('CREATE TABLE NepalStock1.3 (Num,Symbol,LTP,Change,High,Low,Open,Qty,Turnover)')\n",
    "\n",
    "\n",
    "def extracting_data():\n",
    "\n",
    "        url=\"https://merolagani.com/StockQuote.aspx\"\n",
    "        headers={\"User-Agent\": \"Mozilla/5.0 (Windows NT 10.0; Win64; x64) AppleWebKit/537.36 (KHTML, like Gecko) Chrome/107.0.0.0 Safari/537.36\" \n",
    "         }\n",
    "        page = requests.get(url)\n",
    "        soup1=BeautifulSoup(page.text,'lxml')\n",
    "        #soup2=BeautifulSoup(soup1.prettify(),\"html.parser\")\n",
    "\n",
    "        #lists=soup1.find_all('td',class_=\"text-right\").text\n",
    "\n",
    "        #lists= soup1.find_all('td', attrs = {'class':\"text-right\"}).get_text\n",
    "\n",
    "        #print(lists)\n",
    "        lists2=soup1.find('table',class_='table table-bordered table-striped table-hover sortable')\n",
    "        #print(lists2)\n",
    "        headers=[]\n",
    "        for i in lists2.find_all('th'): \n",
    "\n",
    "                title=i.text\n",
    "                headers.append(title)\n",
    "\n",
    "        mydata = pd.DataFrame(columns=['Num','Symbol','LTP','Change','High','Low','Open','Qty','Turnover'])\n",
    "\n",
    "        for j in lists2.find_all('tr')[1:]:\n",
    "\n",
    "                row_data = j.find_all('td')\n",
    "                row = [i.text for i in row_data]\n",
    "                length = len(mydata)\n",
    "                mydata.loc[length] = row\n",
    "\n",
    "        mydata.replace(to_replace=[r\"\\\\t|\\\\n|\\\\r\", \"\\t|\\n|\\r\"], value=[\"\",\"\"], regex=True, inplace=True)\n",
    "        # Drop “#” column\n",
    "        #mydata.drop('\\n#', inplace=True, axis=1)\n",
    "        # Export to csv\n",
    "        mydata.to_csv('dataset_stock.csv', index=False)\n",
    "        # Try to read csv\n",
    "        mydata2 = pd.read_csv('dataset_stock.csv')            \n",
    "        # print(mydata2)      \n",
    "       \n",
    "      \n",
    "        mydata2.to_sql('NepalStock1.3',engine,if_exists='append',index=False)\n",
    "\n",
    "        cur.execute(\"select * from NepalStock2\")\n",
    "\n",
    "        for record in cur:\n",
    "            print(record)\n",
    "        #con.commit()\n",
    "        #cursor.close()\n",
    "        #con.close()    \n",
    "\n",
    "#we specify the name of the function to run every 3600 seconds to save data 'datase_stock.csv' \n",
    "#in the directory then in the model in sql python\n",
    "\n",
    "# to show results we consider 10 seconds int this example\n",
    "schedule.every(10).seconds.do(extracting_data)\n",
    "\n",
    "#we need to use a loop to make sure this function to run\n",
    "\n",
    "while 1:\n",
    "    schedule.run_pending()\n",
    "    time.sleep(1)\n",
    "        \n"
   ]
  },
  {
   "cell_type": "code",
   "execution_count": null,
   "id": "4d89dedf",
   "metadata": {},
   "outputs": [],
   "source": []
  },
  {
   "cell_type": "code",
   "execution_count": null,
   "id": "03ad6fb5",
   "metadata": {
    "scrolled": true
   },
   "outputs": [],
   "source": [
    "\n",
    "\n"
   ]
  }
 ],
 "metadata": {
  "kernelspec": {
   "display_name": "Python 3 (ipykernel)",
   "language": "python",
   "name": "python3"
  },
  "language_info": {
   "codemirror_mode": {
    "name": "ipython",
    "version": 3
   },
   "file_extension": ".py",
   "mimetype": "text/x-python",
   "name": "python",
   "nbconvert_exporter": "python",
   "pygments_lexer": "ipython3",
   "version": "3.9.12"
  }
 },
 "nbformat": 4,
 "nbformat_minor": 5
}
